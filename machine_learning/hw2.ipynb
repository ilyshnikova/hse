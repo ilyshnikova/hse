{
 "cells": [
  {
   "cell_type": "markdown",
   "metadata": {},
   "source": [
    "# Машинное обучение, ФКН ВШЭ\n",
    "\n",
    "# Практическое задание 2\n",
    "\n",
    "## Общая информация\n",
    "\n",
    "Дата выдачи: 11.10.2016\n",
    "\n",
    "Срок сдачи: 24.10.2016 23:59MSK\n",
    "\n",
    "### О задании\n",
    "На сайтах для поиска работы можно найти сотни тысяч объявлений, каждое из которых состоит из пространного описания вакансии и предлагаемой зарплаты. Есть ли связь между описанием и зарплатой? Существуют ли определенные слова, которые наиболее сильно характеризуют зарплату? Можно ли найти другие информативные факторы? Вам предстоит ответить на эти вопросы, проанализировав выборку объявлений о работе в Великобритании.\n",
    "\n",
    "Практическое задание 2 посвящено работе с текстовыми данными и категориальными признаками и задачам бинарной классификации. Вы научитесь:\n",
    " * работать с категориальными признаками;\n",
    " * строить вещественные представления текстовых данных;\n",
    " * обучать и строить прогнозы линейных классификаторов при помощи scikit-learn и Vowpal Wabbit;\n",
    " * тестировать модели и проводить оценку качества в задачах бинарной классификации.\n",
    "\n",
    "\n",
    "### Оценивание и штрафы\n",
    "\n",
    "Каждая из задач имеет определенную «стоимость» (указана в скобках около задачи). Максимально допустимая оценка за работу — 10 баллов. Кроме того, некоторые из заданий являются опциональными (необязательными), однако за их выполнение можно получить дополнительные баллы, которые позднее будут учитываться при проставлении оценок автоматом по курсу.\n",
    "\n",
    "Сдавать задание после указанного срока сдачи нельзя. При выставлении неполного балла за задание в связи с наличием ошибок на усмотрение проверяющего предусмотрена возможность исправить работу на указанных в ответном письме условиях.\n",
    "\n",
    "Задание выполняется самостоятельно. «Похожие» решения считаются плагиатом и все задействованные студенты (в том числе те, у кого списали) не могут получить за него больше 0 баллов (подробнее о плагиате см. на странице курса). Если вы нашли решение какого-то из заданий (или его часть) в открытом источнике, необходимо указать ссылку на этот источник в отдельном блоке в конце Вашей работы (скорее всего вы будете не единственным, кто это нашел, поэтому чтобы исключить подозрение в плагиате, необходима ссылка на источник).\n",
    "\n",
    "Неэффективная реализация кода может негативно отразиться на оценке.\n",
    "\n",
    "### Формат сдачи\n",
    "Для сдачи задания переименуйте получившийся файл \\*.ipynb в соответствии со следующим форматом: *HW2_Username.ipynb*, где *Username* — Ваша фамилия и инициалы на латинице (например, *HW2_IvanovII.ipynb*). Далее отправьте этот файл на hse.cs.ml+<номер группы>@gmail.com (например, hse.cs.ml+141@gmail.com для студентов группы БПМИ-141)."
   ]
  },
  {
   "cell_type": "markdown",
   "metadata": {},
   "source": [
    "## Данные\n",
    "\n",
    "Как было упомянуто ранее, в рамках данного задания мы будем решать задачу бинарной классификации для предсказания уровня заработной платы по тексту объявления о вакансии на примере набора данных с соревнования [Adzuna - Job Salary Prediction](https://www.kaggle.com/c/job-salary-prediction). Для начала пройдите по [ссылке](https://www.kaggle.com/c/job-salary-prediction/data) и скачайте файл Train_rev1 (при необходимости, зарегистрируйтесь на Kaggle).\n",
    "\n",
    "Посмотрим на данные в файле и загрузим их в DataFrame:"
   ]
  },
  {
   "cell_type": "code",
   "execution_count": 1,
   "metadata": {
    "collapsed": false
   },
   "outputs": [
    {
     "name": "stdout",
     "output_type": "stream",
     "text": [
      "Populating the interactive namespace from numpy and matplotlib\n"
     ]
    }
   ],
   "source": [
    "%pylab inline\n",
    "\n",
    "import pandas as pd"
   ]
  },
  {
   "cell_type": "code",
   "execution_count": 2,
   "metadata": {
    "collapsed": false,
    "scrolled": false
   },
   "outputs": [
    {
     "name": "stdout",
     "output_type": "stream",
     "text": [
      "Id,Title,FullDescription,LocationRaw,LocationNormalized,ContractType,ContractTime,Company,Category,SalaryRaw,SalaryNormalized,SourceName\r",
      "\r\n",
      "12612628,Engineering Systems Analyst,\"Engineering Systems Analyst Dorking Surrey Salary ****K Our client is located in Dorking, Surrey and are looking for Engineering Systems Analyst our client provides specialist software development Keywords Mathematical Modelling, Risk Analysis, System Modelling, Optimisation, MISER, PIONEEER Engineering Systems Analyst Dorking Surrey Salary ****K\",\"Dorking, Surrey, Surrey\",Dorking,,permanent,Gregory Martin International,Engineering Jobs,20000 - 30000/annum 20-30K,25000,cv-library.co.uk\r",
      "\r\n"
     ]
    }
   ],
   "source": [
    "# print first 2 rows from Train_rev1.csv\n",
    "!head -n 2 Train_rev1.csv"
   ]
  },
  {
   "cell_type": "code",
   "execution_count": 3,
   "metadata": {
    "collapsed": false
   },
   "outputs": [
    {
     "name": "stdout",
     "output_type": "stream",
     "text": [
      "(244768, 12)\n"
     ]
    },
    {
     "data": {
      "text/html": [
       "<div>\n",
       "<table border=\"1\" class=\"dataframe\">\n",
       "  <thead>\n",
       "    <tr style=\"text-align: right;\">\n",
       "      <th></th>\n",
       "      <th>Id</th>\n",
       "      <th>Title</th>\n",
       "      <th>FullDescription</th>\n",
       "      <th>LocationRaw</th>\n",
       "      <th>LocationNormalized</th>\n",
       "      <th>ContractType</th>\n",
       "      <th>ContractTime</th>\n",
       "      <th>Company</th>\n",
       "      <th>Category</th>\n",
       "      <th>SalaryRaw</th>\n",
       "      <th>SalaryNormalized</th>\n",
       "      <th>SourceName</th>\n",
       "    </tr>\n",
       "  </thead>\n",
       "  <tbody>\n",
       "    <tr>\n",
       "      <th>0</th>\n",
       "      <td>12612628</td>\n",
       "      <td>Engineering Systems Analyst</td>\n",
       "      <td>Engineering Systems Analyst Dorking Surrey Sal...</td>\n",
       "      <td>Dorking, Surrey, Surrey</td>\n",
       "      <td>Dorking</td>\n",
       "      <td>NaN</td>\n",
       "      <td>permanent</td>\n",
       "      <td>Gregory Martin International</td>\n",
       "      <td>Engineering Jobs</td>\n",
       "      <td>20000 - 30000/annum 20-30K</td>\n",
       "      <td>25000</td>\n",
       "      <td>cv-library.co.uk</td>\n",
       "    </tr>\n",
       "    <tr>\n",
       "      <th>1</th>\n",
       "      <td>12612830</td>\n",
       "      <td>Stress Engineer Glasgow</td>\n",
       "      <td>Stress Engineer Glasgow Salary **** to **** We...</td>\n",
       "      <td>Glasgow, Scotland, Scotland</td>\n",
       "      <td>Glasgow</td>\n",
       "      <td>NaN</td>\n",
       "      <td>permanent</td>\n",
       "      <td>Gregory Martin International</td>\n",
       "      <td>Engineering Jobs</td>\n",
       "      <td>25000 - 35000/annum 25-35K</td>\n",
       "      <td>30000</td>\n",
       "      <td>cv-library.co.uk</td>\n",
       "    </tr>\n",
       "    <tr>\n",
       "      <th>2</th>\n",
       "      <td>12612844</td>\n",
       "      <td>Modelling and simulation analyst</td>\n",
       "      <td>Mathematical Modeller / Simulation Analyst / O...</td>\n",
       "      <td>Hampshire, South East, South East</td>\n",
       "      <td>Hampshire</td>\n",
       "      <td>NaN</td>\n",
       "      <td>permanent</td>\n",
       "      <td>Gregory Martin International</td>\n",
       "      <td>Engineering Jobs</td>\n",
       "      <td>20000 - 40000/annum 20-40K</td>\n",
       "      <td>30000</td>\n",
       "      <td>cv-library.co.uk</td>\n",
       "    </tr>\n",
       "    <tr>\n",
       "      <th>3</th>\n",
       "      <td>12613049</td>\n",
       "      <td>Engineering Systems Analyst / Mathematical Mod...</td>\n",
       "      <td>Engineering Systems Analyst / Mathematical Mod...</td>\n",
       "      <td>Surrey, South East, South East</td>\n",
       "      <td>Surrey</td>\n",
       "      <td>NaN</td>\n",
       "      <td>permanent</td>\n",
       "      <td>Gregory Martin International</td>\n",
       "      <td>Engineering Jobs</td>\n",
       "      <td>25000 - 30000/annum 25K-30K negotiable</td>\n",
       "      <td>27500</td>\n",
       "      <td>cv-library.co.uk</td>\n",
       "    </tr>\n",
       "    <tr>\n",
       "      <th>4</th>\n",
       "      <td>12613647</td>\n",
       "      <td>Pioneer, Miser Engineering Systems Analyst</td>\n",
       "      <td>Pioneer, Miser  Engineering Systems Analyst Do...</td>\n",
       "      <td>Surrey, South East, South East</td>\n",
       "      <td>Surrey</td>\n",
       "      <td>NaN</td>\n",
       "      <td>permanent</td>\n",
       "      <td>Gregory Martin International</td>\n",
       "      <td>Engineering Jobs</td>\n",
       "      <td>20000 - 30000/annum 20-30K</td>\n",
       "      <td>25000</td>\n",
       "      <td>cv-library.co.uk</td>\n",
       "    </tr>\n",
       "  </tbody>\n",
       "</table>\n",
       "</div>"
      ],
      "text/plain": [
       "         Id                                              Title  \\\n",
       "0  12612628                        Engineering Systems Analyst   \n",
       "1  12612830                            Stress Engineer Glasgow   \n",
       "2  12612844                   Modelling and simulation analyst   \n",
       "3  12613049  Engineering Systems Analyst / Mathematical Mod...   \n",
       "4  12613647         Pioneer, Miser Engineering Systems Analyst   \n",
       "\n",
       "                                     FullDescription  \\\n",
       "0  Engineering Systems Analyst Dorking Surrey Sal...   \n",
       "1  Stress Engineer Glasgow Salary **** to **** We...   \n",
       "2  Mathematical Modeller / Simulation Analyst / O...   \n",
       "3  Engineering Systems Analyst / Mathematical Mod...   \n",
       "4  Pioneer, Miser  Engineering Systems Analyst Do...   \n",
       "\n",
       "                         LocationRaw LocationNormalized ContractType  \\\n",
       "0            Dorking, Surrey, Surrey            Dorking          NaN   \n",
       "1        Glasgow, Scotland, Scotland            Glasgow          NaN   \n",
       "2  Hampshire, South East, South East          Hampshire          NaN   \n",
       "3     Surrey, South East, South East             Surrey          NaN   \n",
       "4     Surrey, South East, South East             Surrey          NaN   \n",
       "\n",
       "  ContractTime                       Company          Category  \\\n",
       "0    permanent  Gregory Martin International  Engineering Jobs   \n",
       "1    permanent  Gregory Martin International  Engineering Jobs   \n",
       "2    permanent  Gregory Martin International  Engineering Jobs   \n",
       "3    permanent  Gregory Martin International  Engineering Jobs   \n",
       "4    permanent  Gregory Martin International  Engineering Jobs   \n",
       "\n",
       "                                SalaryRaw  SalaryNormalized        SourceName  \n",
       "0              20000 - 30000/annum 20-30K             25000  cv-library.co.uk  \n",
       "1              25000 - 35000/annum 25-35K             30000  cv-library.co.uk  \n",
       "2              20000 - 40000/annum 20-40K             30000  cv-library.co.uk  \n",
       "3  25000 - 30000/annum 25K-30K negotiable             27500  cv-library.co.uk  \n",
       "4              20000 - 30000/annum 20-30K             25000  cv-library.co.uk  "
      ]
     },
     "execution_count": 3,
     "metadata": {},
     "output_type": "execute_result"
    }
   ],
   "source": [
    "df = pd.read_csv('Train_rev1.csv', sep=',')\n",
    "print(df.shape)\n",
    "df.head()"
   ]
  },
  {
   "cell_type": "markdown",
   "metadata": {},
   "source": [
    "В оригинальной постановке предлагается рассматривать признак SalaryNormalized как целевой и решать задачу регрессии, однако в рамках данного задания мы сведём её к задаче бинарной классификации, разделив объекты на 2 группы: объявления о вакансиях с низкой и высокой зарплатами соответственно.\n",
    "\n",
    "<img src = \"http://salt.uaa.alaska.edu/kath/kti/mean_median2.gif\">\n",
    "\n",
    "В качестве порога разбиения объектов на группы будем рассматривать медиану признака SalaryNormalized. Заметим, что таким образом мы автоматически получим задачу классификации со сбалансированными классами:"
   ]
  },
  {
   "cell_type": "code",
   "execution_count": 4,
   "metadata": {
    "collapsed": false
   },
   "outputs": [
    {
     "data": {
      "image/png": "[encoded data removed]",
      "text/plain": [
       "<matplotlib.figure.Figure at 0x7f4e4cd14ba8>"
      ]
     },
     "metadata": {},
     "output_type": "display_data"
    }
   ],
   "source": [
    "# salary histogramm\n",
    "median = np.median(df['SalaryNormalized'])\n",
    "\n",
    "figsize(16,8)\n",
    "plt.hist(df['SalaryNormalized'], bins=50)\n",
    "plt.axvline(median, c='r')\n",
    "plt.xlabel('salary', fontsize=20)\n",
    "plt.ylabel('count', fontsize=20)\n",
    "plt.grid()"
   ]
  },
  {
   "cell_type": "markdown",
   "metadata": {},
   "source": [
    "Осуществим последние шаги по подготовке датасета:\n",
    "- бинаризуем признак SalaryNomalized по описанному ранее порогу;\n",
    "- исключим из выборки признак SalaryRaw, чтобы устранить утечку целевой переменной в признаки."
   ]
  },
  {
   "cell_type": "code",
   "execution_count": 5,
   "metadata": {
    "collapsed": false
   },
   "outputs": [
    {
     "data": {
      "text/html": [
       "<div>\n",
       "<table border=\"1\" class=\"dataframe\">\n",
       "  <thead>\n",
       "    <tr style=\"text-align: right;\">\n",
       "      <th></th>\n",
       "      <th>Id</th>\n",
       "      <th>Title</th>\n",
       "      <th>FullDescription</th>\n",
       "      <th>LocationRaw</th>\n",
       "      <th>LocationNormalized</th>\n",
       "      <th>ContractType</th>\n",
       "      <th>ContractTime</th>\n",
       "      <th>Company</th>\n",
       "      <th>Category</th>\n",
       "      <th>SalaryNormalized</th>\n",
       "      <th>SourceName</th>\n",
       "    </tr>\n",
       "  </thead>\n",
       "  <tbody>\n",
       "    <tr>\n",
       "      <th>0</th>\n",
       "      <td>12612628</td>\n",
       "      <td>Engineering Systems Analyst</td>\n",
       "      <td>Engineering Systems Analyst Dorking Surrey Sal...</td>\n",
       "      <td>Dorking, Surrey, Surrey</td>\n",
       "      <td>Dorking</td>\n",
       "      <td>NaN</td>\n",
       "      <td>permanent</td>\n",
       "      <td>Gregory Martin International</td>\n",
       "      <td>Engineering Jobs</td>\n",
       "      <td>0</td>\n",
       "      <td>cv-library.co.uk</td>\n",
       "    </tr>\n",
       "    <tr>\n",
       "      <th>1</th>\n",
       "      <td>12612830</td>\n",
       "      <td>Stress Engineer Glasgow</td>\n",
       "      <td>Stress Engineer Glasgow Salary **** to **** We...</td>\n",
       "      <td>Glasgow, Scotland, Scotland</td>\n",
       "      <td>Glasgow</td>\n",
       "      <td>NaN</td>\n",
       "      <td>permanent</td>\n",
       "      <td>Gregory Martin International</td>\n",
       "      <td>Engineering Jobs</td>\n",
       "      <td>0</td>\n",
       "      <td>cv-library.co.uk</td>\n",
       "    </tr>\n",
       "    <tr>\n",
       "      <th>2</th>\n",
       "      <td>12612844</td>\n",
       "      <td>Modelling and simulation analyst</td>\n",
       "      <td>Mathematical Modeller / Simulation Analyst / O...</td>\n",
       "      <td>Hampshire, South East, South East</td>\n",
       "      <td>Hampshire</td>\n",
       "      <td>NaN</td>\n",
       "      <td>permanent</td>\n",
       "      <td>Gregory Martin International</td>\n",
       "      <td>Engineering Jobs</td>\n",
       "      <td>0</td>\n",
       "      <td>cv-library.co.uk</td>\n",
       "    </tr>\n",
       "    <tr>\n",
       "      <th>3</th>\n",
       "      <td>12613049</td>\n",
       "      <td>Engineering Systems Analyst / Mathematical Mod...</td>\n",
       "      <td>Engineering Systems Analyst / Mathematical Mod...</td>\n",
       "      <td>Surrey, South East, South East</td>\n",
       "      <td>Surrey</td>\n",
       "      <td>NaN</td>\n",
       "      <td>permanent</td>\n",
       "      <td>Gregory Martin International</td>\n",
       "      <td>Engineering Jobs</td>\n",
       "      <td>0</td>\n",
       "      <td>cv-library.co.uk</td>\n",
       "    </tr>\n",
       "    <tr>\n",
       "      <th>4</th>\n",
       "      <td>12613647</td>\n",
       "      <td>Pioneer, Miser Engineering Systems Analyst</td>\n",
       "      <td>Pioneer, Miser  Engineering Systems Analyst Do...</td>\n",
       "      <td>Surrey, South East, South East</td>\n",
       "      <td>Surrey</td>\n",
       "      <td>NaN</td>\n",
       "      <td>permanent</td>\n",
       "      <td>Gregory Martin International</td>\n",
       "      <td>Engineering Jobs</td>\n",
       "      <td>0</td>\n",
       "      <td>cv-library.co.uk</td>\n",
       "    </tr>\n",
       "  </tbody>\n",
       "</table>\n",
       "</div>"
      ],
      "text/plain": [
       "         Id                                              Title  \\\n",
       "0  12612628                        Engineering Systems Analyst   \n",
       "1  12612830                            Stress Engineer Glasgow   \n",
       "2  12612844                   Modelling and simulation analyst   \n",
       "3  12613049  Engineering Systems Analyst / Mathematical Mod...   \n",
       "4  12613647         Pioneer, Miser Engineering Systems Analyst   \n",
       "\n",
       "                                     FullDescription  \\\n",
       "0  Engineering Systems Analyst Dorking Surrey Sal...   \n",
       "1  Stress Engineer Glasgow Salary **** to **** We...   \n",
       "2  Mathematical Modeller / Simulation Analyst / O...   \n",
       "3  Engineering Systems Analyst / Mathematical Mod...   \n",
       "4  Pioneer, Miser  Engineering Systems Analyst Do...   \n",
       "\n",
       "                         LocationRaw LocationNormalized ContractType  \\\n",
       "0            Dorking, Surrey, Surrey            Dorking          NaN   \n",
       "1        Glasgow, Scotland, Scotland            Glasgow          NaN   \n",
       "2  Hampshire, South East, South East          Hampshire          NaN   \n",
       "3     Surrey, South East, South East             Surrey          NaN   \n",
       "4     Surrey, South East, South East             Surrey          NaN   \n",
       "\n",
       "  ContractTime                       Company          Category  \\\n",
       "0    permanent  Gregory Martin International  Engineering Jobs   \n",
       "1    permanent  Gregory Martin International  Engineering Jobs   \n",
       "2    permanent  Gregory Martin International  Engineering Jobs   \n",
       "3    permanent  Gregory Martin International  Engineering Jobs   \n",
       "4    permanent  Gregory Martin International  Engineering Jobs   \n",
       "\n",
       "   SalaryNormalized        SourceName  \n",
       "0                 0  cv-library.co.uk  \n",
       "1                 0  cv-library.co.uk  \n",
       "2                 0  cv-library.co.uk  \n",
       "3                 0  cv-library.co.uk  \n",
       "4                 0  cv-library.co.uk  "
      ]
     },
     "execution_count": 5,
     "metadata": {},
     "output_type": "execute_result"
    }
   ],
   "source": [
    "df['SalaryNormalized'] = (df['SalaryNormalized'] > median).astype(int)\n",
    "df.drop('SalaryRaw', axis=1, inplace=True)\n",
    "df.head()"
   ]
  },
  {
   "cell_type": "markdown",
   "metadata": {},
   "source": [
    "#### 1. (0 баллов) Разбейте получившуюся выборку на обучающую и контрольную в соотношении 70/30 с использованием перемешивания объектов.\n",
    "\n",
    "При разбиении используйте значение параметра random_state=42."
   ]
  },
  {
   "cell_type": "code",
   "execution_count": 7,
   "metadata": {
    "collapsed": true
   },
   "outputs": [],
   "source": [
    "is_testing_mode = False"
   ]
  },
  {
   "cell_type": "code",
   "execution_count": 8,
   "metadata": {
    "collapsed": false
   },
   "outputs": [
    {
     "name": "stderr",
     "output_type": "stream",
     "text": [
      "/root/anaconda3/envs/python/lib/python3.5/site-packages/sklearn/cross_validation.py:44: DeprecationWarning: This module was deprecated in version 0.18 in favor of the model_selection module into which all the refactored classes and functions are moved. Also note that the interface of the new CV iterators are different from that of this module. This module will be removed in 0.20.\n",
      "  \"This module will be removed in 0.20.\", DeprecationWarning)\n"
     ]
    }
   ],
   "source": [
    "from sklearn.cross_validation import train_test_split\n",
    "if is_testing_mode:\n",
    "    df = df.head(10000)\n",
    "\n",
    "Y = df['SalaryNormalized']\n",
    "X = df.drop('SalaryNormalized', axis=1)\n",
    "\n",
    "X_train, X_test, y_train, y_test = train_test_split(X, Y, test_size=0.30, random_state=42)"
   ]
  },
  {
   "cell_type": "markdown",
   "metadata": {},
   "source": [
    "## Векторизация\n",
    "\n",
    "Как правило, модели, используемые в машинном обучении, применяются в предположении, что матрица \"объект-признак\" является вещественнозначной. Поэтому при работе с категориальными признаками и текстами сперва их необходимо привести к вещественному виду.\n",
    "\n",
    "Заметим, что в нашей задаче есть признаки, являющиеся текстами произвольной природы (Title, FullDescription), и категориальные признаки, принимающие ограниченное число значений (ContractType, Category и др.).\n",
    "\n",
    "Самый простой и понятный способ преобразования текстовых данных — векторизация. В этом случае для каждого слова, встречающегося в некотором набре текстов мы создаём отдельный новый признак, который будет равен $1$, когда слово встречается в заданном объекте, и $0$ – в противном случае.\n",
    "\n",
    "#### 2. (0.5 балла) Создайте текстовое описание объектов обучающей и контрольной выборок, объединив значения всех признаков каждого объекта выборки через символы пробела. После этого получите признаковое описание объектов, осуществив векторизацию получившихся текстов при помощи [CountVectorizer](http://scikit-learn.org/stable/modules/generated/sklearn.feature_extraction.text.CountVectorizer.html), обучив его на обучающей выборке и применив на контрольной."
   ]
  },
  {
   "cell_type": "code",
   "execution_count": 9,
   "metadata": {
    "collapsed": false
   },
   "outputs": [
    {
     "name": "stderr",
     "output_type": "stream",
     "text": [
      "/root/anaconda3/envs/python/lib/python3.5/site-packages/pandas/core/frame.py:2824: SettingWithCopyWarning: \n",
      "A value is trying to be set on a copy of a slice from a DataFrame\n",
      "\n",
      "See the caveats in the documentation: http://pandas.pydata.org/pandas-docs/stable/indexing.html#indexing-view-versus-copy\n",
      "  downcast=downcast, **kwargs)\n"
     ]
    }
   ],
   "source": [
    "def get_text_col(x):\n",
    "    cat_features_mask = (x.dtypes == \"object\").values\n",
    "    data_str = x[x.columns[cat_features_mask]]\n",
    "    data_str.fillna('nan', inplace=True)\n",
    "    text = data_str[data_str.columns[0]]\n",
    "    data_str.columns\n",
    "    for col in data_str.columns[1:]:\n",
    "        text += ' ' + data_str[col]\n",
    "    return text\n",
    "    \n",
    "text_train = get_text_col(X_train)\n",
    "text_test = get_text_col(X_test)"
   ]
  },
  {
   "cell_type": "code",
   "execution_count": 10,
   "metadata": {
    "collapsed": true
   },
   "outputs": [],
   "source": [
    "from sklearn.feature_extraction.text import CountVectorizer\n",
    "vectorizer = CountVectorizer(encoding='utf8', min_df=5)\n",
    "fit_vect = vectorizer.fit(text_train)\n",
    "\n",
    "train = vectorizer.transform(text_train)\n",
    "test = vectorizer.transform(text_test)"
   ]
  },
  {
   "cell_type": "markdown",
   "metadata": {},
   "source": [
    "#### 3. (1.5 балла) Обучите следующие модели на обучающей выборке:\n",
    " - [логистическую регрессию](http://scikit-learn.org/stable/modules/generated/sklearn.linear_model.LogisticRegression.html) из модуля sklearn с параметрами по умолчанию;\n",
    " - логистическую регрессию при помощи Vowpal Wabbit с параметрами по умолчанию."
   ]
  },
  {
   "cell_type": "code",
   "execution_count": 11,
   "metadata": {
    "collapsed": false
   },
   "outputs": [
    {
     "data": {
      "text/plain": [
       "LogisticRegression(C=1.0, class_weight=None, dual=False, fit_intercept=True,\n",
       "          intercept_scaling=1, max_iter=100, multi_class='ovr', n_jobs=1,\n",
       "          penalty='l2', random_state=None, solver='liblinear', tol=0.0001,\n",
       "          verbose=0, warm_start=False)"
      ]
     },
     "execution_count": 11,
     "metadata": {},
     "output_type": "execute_result"
    }
   ],
   "source": [
    "from sklearn import linear_model\n",
    "logreg = linear_model.LogisticRegression()\n",
    "logreg.fit(train, y_train)"
   ]
  },
  {
   "cell_type": "code",
   "execution_count": 12,
   "metadata": {
    "collapsed": false
   },
   "outputs": [],
   "source": [
    "from sklearn.datasets import dump_svmlight_file\n",
    "dump_svmlight_file(train, y_train, \"train.txt\")\n",
    "dump_svmlight_file(test, y_test, \"test.txt\")\n",
    "! sed -i 's/^0 /-1 |features /g' train.txt\n",
    "! sed -i 's/^1 /1 |features /g' train.txt\n",
    "! sed -i 's/^0 /-1 |features /g' test.txt\n",
    "! sed -i 's/^1 /1 |features /g' test.txt"
   ]
  },
  {
   "cell_type": "code",
   "execution_count": 13,
   "metadata": {
    "collapsed": false
   },
   "outputs": [
    {
     "name": "stdout",
     "output_type": "stream",
     "text": [
      "final_regressor = model.vw\n",
      "Num weight bits = 18\n",
      "learning rate = 0.5\n",
      "initial_t = 0\n",
      "power_t = 0.5\n",
      "using no cache\n",
      "Reading datafile = train.txt\n",
      "num sources = 1\n",
      "average  since         example        example  current  current  current\n",
      "loss     last          counter         weight    label  predict features\n",
      "0.693147 0.693147            1            1.0  -1.0000   0.5000      229\n",
      "0.611652 0.530157            2            2.0  -1.0000   0.4115       90\n",
      "0.488651 0.365649            4            4.0  -1.0000   0.2128      168\n",
      "0.908853 1.329055            8            8.0  -1.0000   0.4008      126\n",
      "0.802315 0.695778           16           16.0  -1.0000   0.5688      164\n",
      "0.764599 0.726882           32           32.0  -1.0000   0.6581      194\n",
      "0.711296 0.657992           64           64.0  -1.0000   0.1751      241\n",
      "0.685313 0.659331          128          128.0  -1.0000   0.3844      229\n",
      "0.643729 0.602144          256          256.0  -1.0000   0.2879      122\n",
      "0.600244 0.556759          512          512.0   1.0000   0.7500       96\n",
      "0.563543 0.526842         1024         1024.0   1.0000   0.2971      102\n",
      "0.527185 0.490828         2048         2048.0   1.0000   0.7836      160\n",
      "0.509153 0.491121         4096         4096.0   1.0000   0.7427      122\n",
      "0.475166 0.441178         8192         8192.0   1.0000   0.5061       72\n",
      "0.445603 0.416040        16384        16384.0   1.0000   0.8531      178\n",
      "0.418514 0.391426        32768        32768.0   1.0000   0.8142      123\n",
      "0.392107 0.365700        65536        65536.0  -1.0000   0.0978      279\n",
      "0.369078 0.346049       131072       131072.0  -1.0000   0.1118      123\n",
      "\n",
      "finished run\n",
      "number of examples per pass = 171337\n",
      "passes used = 1\n",
      "weighted example sum = 171337.000000\n",
      "weighted label sum = -5161.000000\n",
      "average loss = 0.360035\n",
      "best constant = -0.060262\n",
      "best constant's loss = 0.692693\n",
      "total feature number = 25626213\n"
     ]
    }
   ],
   "source": [
    "! vw --link logistic --loss_function logistic --data train.txt -f model.vw --invert_hash /root/readable_model.vw "
   ]
  },
  {
   "cell_type": "code",
   "execution_count": 14,
   "metadata": {
    "collapsed": false
   },
   "outputs": [
    {
     "name": "stdout",
     "output_type": "stream",
     "text": [
      "0.873795230883 0.869502686087 \n",
      " [[33343  4597]\n",
      " [ 4658 30833]]\n"
     ]
    }
   ],
   "source": [
    "from sklearn.metrics import roc_auc_score, f1_score, confusion_matrix\n",
    "\n",
    "y_pred = logreg.predict(test)\n",
    "first_linreg_score = roc_auc_score(y_test, y_pred)\n",
    "first_f1_score = f1_score(y_test, y_pred)\n",
    "first_cm_score = confusion_matrix(y_test, y_pred)\n",
    "print(first_linreg_score, first_f1_score, \"\\n\", first_cm_score)"
   ]
  },
  {
   "cell_type": "markdown",
   "metadata": {},
   "source": [
    "#### 4. (0.5 балла) Вычислите значения ROC-AUC, [F-меры](http://scikit-learn.org/stable/modules/generated/sklearn.metrics.f1_score.html), а также постройте [матрицу ошибок](http://scikit-learn.org/stable/modules/generated/sklearn.metrics.confusion_matrix.html) для каждой из построенных в п. 3 моделей на контрольной выборке. Сравните построенные модели по качеству их работы."
   ]
  },
  {
   "cell_type": "code",
   "execution_count": 15,
   "metadata": {
    "collapsed": false
   },
   "outputs": [
    {
     "name": "stdout",
     "output_type": "stream",
     "text": [
      "only testing\n",
      "raw predictions = raw_predictions.txt\n",
      "Num weight bits = 18\n",
      "learning rate = 0.5\n",
      "initial_t = 0\n",
      "power_t = 0.5\n",
      "using no cache\n",
      "Reading datafile = test.txt\n",
      "num sources = 1\n",
      "average  since         example        example  current  current  current\n",
      "loss     last          counter         weight    label  predict features\n",
      "0.843930 0.843930            1            1.0  -1.0000   0.5700      207\n",
      "0.426326 0.008722            2            2.0  -1.0000   0.0087      235\n",
      "0.516298 0.606269            4            4.0  -1.0000   0.4590       45\n",
      "0.337346 0.158395            8            8.0  -1.0000   0.0329      135\n",
      "0.360707 0.384068           16           16.0   1.0000   0.7549      235\n",
      "0.270329 0.179952           32           32.0   1.0000   0.7502      154\n",
      "0.231712 0.193095           64           64.0   1.0000   0.9379      125\n",
      "0.261072 0.290432          128          128.0   1.0000   0.9207      154\n",
      "0.293860 0.326649          256          256.0   1.0000   0.4292      231\n",
      "0.300316 0.306771          512          512.0  -1.0000   0.0203      167\n",
      "0.300859 0.301403         1024         1024.0   1.0000   0.4565      155\n",
      "0.309695 0.318531         2048         2048.0  -1.0000   0.0504      122\n",
      "0.327866 0.346038         4096         4096.0   1.0000   0.6621      156\n",
      "0.327728 0.327589         8192         8192.0   1.0000   0.6376      176\n",
      "0.326456 0.325184        16384        16384.0  -1.0000   0.8363      138\n",
      "0.329564 0.332673        32768        32768.0  -1.0000   0.9472      166\n",
      "0.330926 0.332287        65536        65536.0   1.0000   0.4630      124\n",
      "\n",
      "finished run\n",
      "number of examples per pass = 73431\n",
      "passes used = 1\n",
      "weighted example sum = 73431.000000\n",
      "weighted label sum = -2449.000000\n",
      "average loss = 0.330395\n",
      "best constant = -0.066727\n",
      "best constant's loss = 0.692591\n",
      "total feature number = 11016931\n"
     ]
    }
   ],
   "source": [
    "!`vw --data test.txt -t -i model.vw --loss_function logistic -r raw_predictions.txt`"
   ]
  },
  {
   "cell_type": "code",
   "execution_count": 16,
   "metadata": {
    "collapsed": false
   },
   "outputs": [
    {
     "name": "stdout",
     "output_type": "stream",
     "text": [
      "0.846265866745 0.830915960753 \n",
      " [[35064  2876]\n",
      " [ 8222 27269]]\n"
     ]
    }
   ],
   "source": [
    "wv_y_pred = []\n",
    "with open('raw_predictions.txt') as f:\n",
    "     wv_y_pred = f.readlines()\n",
    "\n",
    "        \n",
    "from sklearn.metrics import roc_auc_score, f1_score, confusion_matrix\n",
    "wv_y_pred = [1 if float(i) > 0.5 else 0 for i in wv_y_pred]\n",
    "vw_first_linreg_score = roc_auc_score(y_test, wv_y_pred)\n",
    "\n",
    "vw_first_f1_score = f1_score(y_test, wv_y_pred)\n",
    "vw_first_cm_score = confusion_matrix(y_test, wv_y_pred)\n",
    "print(vw_first_linreg_score, vw_first_f1_score, \"\\n\", vw_first_cm_score)\n"
   ]
  },
  {
   "cell_type": "markdown",
   "metadata": {},
   "source": [
    "#### 5. (1 балл) Отсортируйте веса признаков для модели логистической регрессии из scikit-learn, полученной в п. 2. Какие слова из встречающихся в выборке имеют наибольшее/наименьшее влияние на значение целевой переменной? Проинтерпретируйте полученный результат."
   ]
  },
  {
   "cell_type": "code",
   "execution_count": 17,
   "metadata": {
    "collapsed": false
   },
   "outputs": [
    {
     "name": "stdout",
     "output_type": "stream",
     "text": [
      "min\n",
      "europeanmanagementaccountant_job -1.97818018542e-06\n",
      "pm130123 -1.97818018542e-06\n",
      "alternating -2.25869959099e-06\n",
      "detailedlevel 7.02977836882e-06\n",
      "precompletion -7.92821503801e-06\n",
      "kellieann 8.04741947059e-06\n",
      "hukins 8.04741947059e-06\n",
      "visitsdeveloping -1.06720404155e-05\n",
      "negotiationfor 1.38941874706e-05\n",
      "v2012 1.92936375553e-05\n",
      "max\n",
      "targetjobs 1.52826319491\n",
      "optometrist 1.59119655352\n",
      "huntswood 1.6468965302\n",
      "qsw 1.65384093404\n",
      "hcpc 1.91340174673\n",
      "nijobfinder -2.12499628772\n",
      "a24 2.12845377117\n",
      "studentship -2.4347189745\n",
      "elance -3.1993425059\n",
      "theladders 3.67554320022\n"
     ]
    }
   ],
   "source": [
    "top_size = 10\n",
    "indexes = np.argsort([abs(i) for i in logreg.coef_])[0]\n",
    "columns=vectorizer.get_feature_names()\n",
    "\n",
    "\n",
    "print('min')\n",
    "for i in range(0,top_size):\n",
    "    print(columns[indexes[i]], logreg.coef_[0][indexes[i]])\n",
    "     \n",
    "print('max')\n",
    "for i in range(len(indexes) - top_size,len(indexes)):\n",
    "    print(columns[indexes[i]], logreg.coef_[0][indexes[i]])\n",
    "        \n",
    "#слова действительно похожи на те от которых зависит уровень зарплаты \n",
    "# например studentship -- на стажировках платят не много \n",
    "# a24 -- какая то компания у которой возможно зарплата как то вделяется на фоне других"
   ]
  },
  {
   "cell_type": "markdown",
   "metadata": {},
   "source": [
    "#### 6. (0.5 доп. балла) Отсортируйте веса признаков для модели логистической регрессии, полученной в п. 2 при помощи Vowpal Wabbit. Какие слова из встречающихся в выборке имеют наибольшее/наименьшее влияние на значение целевой переменной? Проинтерпретирйте полученный результат."
   ]
  },
  {
   "cell_type": "code",
   "execution_count": 18,
   "metadata": {
    "collapsed": false
   },
   "outputs": [
    {
     "name": "stdout",
     "output_type": "stream",
     "text": [
      "min\n",
      "nijobfinder -1.105152\n",
      "jobsitnmark -1.104159\n",
      "findababysitter -1.069271\n",
      "assistantaccountant_job -1.031723\n",
      "administrator_job -1.015452\n",
      "hradministrator_job -0.945075\n",
      "revitalised -0.943932\n",
      "assistantmanager_job -0.9249\n",
      "accountsassistant_job -0.919423\n",
      "kitchenmanager_job -0.890271\n",
      "max\n",
      "legalweekjobs 0.806651\n",
      "careersinaudit 0.808615\n",
      "commercialaccountant_job 0.825566\n",
      "totallyexec 0.874948\n",
      "actuaryjobs 0.984178\n",
      "ryanh 0.99589\n",
      "infochasemedical 1.014803\n",
      "efinancialcareers 1.177208\n",
      "oilandgasjobsearch 1.300049\n",
      "theladders 2.601045\n"
     ]
    }
   ],
   "source": [
    "import re\n",
    "\n",
    "def parse_feature_weights():\n",
    "    with open(\"readable_model.vw\") as f:\n",
    "        for line in f.readlines():\n",
    "            mgroup = re.match(\"^features\\^(\\d+):(\\d+):(.*)$\", line)\n",
    "            if mgroup:\n",
    "                feature_name = mgroup.group(1)\n",
    "                feature_weight = mgroup.group(3)\n",
    "                yield (float(feature_weight), int(feature_name))\n",
    "\n",
    "result_list = list(parse_feature_weights())\n",
    "result_list.sort()\n",
    "columns=vectorizer.get_feature_names()\n",
    "\n",
    "\n",
    "print('min')\n",
    "for i in range(0, top_size):\n",
    "    print(columns[result_list[i][1]], result_list[i][0]) \n",
    "    \n",
    "print('max')\n",
    "for i in range(len(result_list) - top_size, len(result_list)):\n",
    "    print(columns[result_list[i][1]], result_list[i][0]) \n",
    "    \n",
    "\n",
    "#слова не очень похожи на те от которых зависит уровень зарплаты \n",
    "#theladders -- Ladders, Inc. is a United States-based company providing an online job search service "
   ]
  },
  {
   "cell_type": "markdown",
   "metadata": {},
   "source": [
    "## TF-IDF\n",
    "\n",
    "Ещё один способ работы с текстовыми данными — [TF-IDF](https://en.wikipedia.org/wiki/Tf–idf) (**T**erm **F**requency–**I**nverse **D**ocument **F**requency). Рассмотрим коллекцию текстов $D$.  Для каждого уникального слова $t$ из документа $d \\in D$ вычислим следующие величины:\n",
    "\n",
    "1. Term Frequency – количество вхождений слова в отношении к общему числу слов в тексте:\n",
    "$$\\text{tf}(t, d) = \\frac{n_{td}}{\\sum_{t \\in d} n_{td}},$$\n",
    "где $n_{td}$ — количество вхождений слова $t$ в текст $d$.\n",
    "1. Inverse Document Frequency\n",
    "$$\\text{idf}(t, D) = \\log \\frac{\\left| D \\right|}{\\left| \\{d\\in D: t \\in d\\} \\right|},$$\n",
    "где $\\left| \\{d\\in D: t \\in d\\} \\right|$ – количество текстов в коллекции, содержащих слово $t$.\n",
    "\n",
    "Тогда для каждой пары (слово, текст) $(t, d)$ вычислим величину:\n",
    "$$\\text{tf-idf}(t,d, D) = \\text{tf}(t, d)\\cdot \\text{idf}(t, D).$$\n",
    "\n",
    "Отметим, что значение $\\text{tf}(t, d)$ корректируется для часто встречающихся общеупотребимых слов при помощи значения $\\text{idf}(t, D).$\n",
    "\n",
    "Признаковым описанием одного объекта $d \\in D$ будет вектор $\\bigg(\\text{tf-idf}(t,d, D)\\bigg)_{t\\in V}$, где $V$ – словарь всех слов, встречающихся в коллекции $D$.\n",
    "\n",
    "#### 7. (0.5 балла) Создайте текстовое описание объектов обучающей и контрольной выборок, объединив значения всех признаков каждого объекта выборки через символы пробела. После этого получите признаковое описание объектов, вычислив вектор tf-idf для каждого объекта помощи [TfidfVectorizer](http://scikit-learn.org/stable/modules/generated/sklearn.feature_extraction.text.TfidfVectorizer.html), обучив его на обучающей выборке и применив на контрольной."
   ]
  },
  {
   "cell_type": "code",
   "execution_count": 19,
   "metadata": {
    "collapsed": false
   },
   "outputs": [],
   "source": [
    "text_train\n",
    "text_test\n",
    "from sklearn.feature_extraction.text import TfidfVectorizer\n",
    "vectorizer = TfidfVectorizer(encoding='utf8', min_df=5)\n",
    "_ = vectorizer.fit(text_train)\n",
    "\n",
    "train = vectorizer.transform(text_train)\n",
    "test = vectorizer.transform(text_test)\n"
   ]
  },
  {
   "cell_type": "markdown",
   "metadata": {},
   "source": [
    "#### 8. (0 баллов) Обучите следующие модели на обучающей выборке:\n",
    "- [логистическую регрессию](http://scikit-learn.org/stable/modules/generated/sklearn.linear_model.LogisticRegression.html) из модуля sklearn с параметрами по умолчанию;\n",
    "- логистическую регрессию при помощи Vowpal Wabbit с параметрами по умолчанию."
   ]
  },
  {
   "cell_type": "code",
   "execution_count": 20,
   "metadata": {
    "collapsed": false
   },
   "outputs": [
    {
     "data": {
      "text/plain": [
       "LogisticRegression(C=1.0, class_weight=None, dual=False, fit_intercept=True,\n",
       "          intercept_scaling=1, max_iter=100, multi_class='ovr', n_jobs=1,\n",
       "          penalty='l2', random_state=None, solver='liblinear', tol=0.0001,\n",
       "          verbose=0, warm_start=False)"
      ]
     },
     "execution_count": 20,
     "metadata": {},
     "output_type": "execute_result"
    }
   ],
   "source": [
    "from sklearn import linear_model\n",
    "logreg = linear_model.LogisticRegression()\n",
    "logreg.fit(train, y_train)"
   ]
  },
  {
   "cell_type": "code",
   "execution_count": 21,
   "metadata": {
    "collapsed": false
   },
   "outputs": [
    {
     "name": "stdout",
     "output_type": "stream",
     "text": [
      "final_regressor = model.vw\n",
      "Num weight bits = 18\n",
      "learning rate = 0.5\n",
      "initial_t = 0\n",
      "power_t = 0.5\n",
      "using no cache\n",
      "Reading datafile = train.txt\n",
      "num sources = 1\n",
      "average  since         example        example  current  current  current\n",
      "loss     last          counter         weight    label  predict features\n",
      "0.693147 0.693147            1            1.0  -1.0000   0.5000      229\n",
      "0.557564 0.421980            2            2.0  -1.0000   0.3443       90\n",
      "0.444525 0.331487            4            4.0  -1.0000   0.2111      168\n",
      "0.691462 0.938398            8            8.0  -1.0000   0.4028      126\n",
      "0.702771 0.714081           16           16.0  -1.0000   0.5447      164\n",
      "0.708598 0.714425           32           32.0  -1.0000   0.6402      194\n",
      "0.681388 0.654177           64           64.0  -1.0000   0.2026      241\n",
      "0.664034 0.646680          128          128.0  -1.0000   0.4226      229\n",
      "0.630808 0.597582          256          256.0  -1.0000   0.3227      122\n",
      "0.586339 0.541869          512          512.0   1.0000   0.8740       96\n",
      "0.550504 0.514669         1024         1024.0   1.0000   0.3012      102\n",
      "0.510633 0.470763         2048         2048.0   1.0000   0.7357      160\n",
      "0.489283 0.467932         4096         4096.0   1.0000   0.8334      122\n",
      "0.455375 0.421468         8192         8192.0   1.0000   0.5516       72\n",
      "0.423286 0.391196        16384        16384.0   1.0000   0.8666      178\n",
      "0.394433 0.365580        32768        32768.0   1.0000   0.8934      123\n",
      "0.368241 0.342049        65536        65536.0  -1.0000   0.2720      279\n",
      "0.346003 0.323766       131072       131072.0  -1.0000   0.0865      123\n",
      "\n",
      "finished run\n",
      "number of examples per pass = 171337\n",
      "passes used = 1\n",
      "weighted example sum = 171337.000000\n",
      "weighted label sum = -5161.000000\n",
      "average loss = 0.337771\n",
      "best constant = -0.060262\n",
      "best constant's loss = 0.692693\n",
      "total feature number = 25626213\n"
     ]
    }
   ],
   "source": [
    "from sklearn.datasets import dump_svmlight_file\n",
    "dump_svmlight_file(train, y_train, \"train.txt\")\n",
    "dump_svmlight_file(test, y_test, \"test.txt\")\n",
    "! sed -i 's/^0 /-1 |features /g' train.txt\n",
    "! sed -i 's/^1 /1 |features /g' train.txt\n",
    "! sed -i 's/^0 /-1 |features /g' test.txt\n",
    "! sed -i 's/^1 /1 |features /g' test.txt\n",
    "! vw --link logistic --loss_function logistic --data train.txt -f model.vw --invert_hash /root/readable_model.vw "
   ]
  },
  {
   "cell_type": "markdown",
   "metadata": {},
   "source": [
    "#### 9. (0.5 балла) Вычислите значения ROC-AUC, [F-меры](http://scikit-learn.org/stable/modules/generated/sklearn.metrics.f1_score.html), а также постройте [матрицу ошибок](http://scikit-learn.org/stable/modules/generated/sklearn.metrics.confusion_matrix.html) для каждой из построенных в п. 8 моделей на контрольной выборке. Сравните построенные модели по качеству их работы."
   ]
  },
  {
   "cell_type": "code",
   "execution_count": 22,
   "metadata": {
    "collapsed": false
   },
   "outputs": [
    {
     "name": "stdout",
     "output_type": "stream",
     "text": [
      "roc_auc_score : first: 0.873795230883 || second: 0.86874186937\n",
      "f1_score : first: 0.869502686087 || second: 0.864764738076\n",
      "confusion_matrix : first:\n",
      " [[33343  4597]\n",
      " [ 4658 30833]] \n",
      "|| second:\n",
      " [[32982  4958]\n",
      " [ 4679 30812]]\n"
     ]
    }
   ],
   "source": [
    "from sklearn.metrics import roc_auc_score, f1_score, confusion_matrix\n",
    "\n",
    "y_pred = logreg.predict(test)\n",
    "\n",
    "print('roc_auc_score : first:', first_linreg_score, '||', 'second:', roc_auc_score(y_test, y_pred))\n",
    "print('f1_score : first:', first_f1_score, '||', 'second:', f1_score(y_test, y_pred))\n",
    "print('confusion_matrix : first:\\n', first_cm_score, '\\n||', 'second:\\n', confusion_matrix(y_test, y_pred))"
   ]
  },
  {
   "cell_type": "code",
   "execution_count": 23,
   "metadata": {
    "collapsed": false
   },
   "outputs": [
    {
     "name": "stdout",
     "output_type": "stream",
     "text": [
      "only testing\n",
      "raw predictions = raw_predictions.txt\n",
      "Num weight bits = 18\n",
      "learning rate = 0.5\n",
      "initial_t = 0\n",
      "power_t = 0.5\n",
      "using no cache\n",
      "Reading datafile = test.txt\n",
      "num sources = 1\n",
      "average  since         example        example  current  current  current\n",
      "loss     last          counter         weight    label  predict features\n",
      "0.837535 0.837535            1            1.0  -1.0000   0.5672      207\n",
      "0.456690 0.075844            2            2.0  -1.0000   0.0730      235\n",
      "0.549657 0.642624            4            4.0  -1.0000   0.3498       45\n",
      "0.314794 0.079931            8            8.0  -1.0000   0.0385      135\n",
      "0.325506 0.336218           16           16.0   1.0000   0.6582      235\n",
      "0.229904 0.134303           32           32.0   1.0000   0.7245      154\n",
      "0.201755 0.173607           64           64.0   1.0000   0.9857      125\n",
      "0.236962 0.272168          128          128.0   1.0000   0.9349      154\n",
      "0.288495 0.340028          256          256.0   1.0000   0.6160      231\n",
      "0.284554 0.280613          512          512.0  -1.0000   0.0155      167\n",
      "0.284018 0.283483         1024         1024.0   1.0000   0.5865      155\n",
      "0.292440 0.300862         2048         2048.0  -1.0000   0.0376      122\n",
      "0.304793 0.317147         4096         4096.0   1.0000   0.6745      156\n",
      "0.305302 0.305810         8192         8192.0   1.0000   0.7004      176\n",
      "0.304404 0.303507        16384        16384.0  -1.0000   0.9101      138\n",
      "0.307130 0.309856        32768        32768.0  -1.0000   0.9506      166\n",
      "0.309429 0.311728        65536        65536.0   1.0000   0.5228      124\n",
      "\n",
      "finished run\n",
      "number of examples per pass = 73431\n",
      "passes used = 1\n",
      "weighted example sum = 73431.000000\n",
      "weighted label sum = -2449.000000\n",
      "average loss = 0.308932\n",
      "best constant = -0.066727\n",
      "best constant's loss = 0.692591\n",
      "total feature number = 11016931\n"
     ]
    }
   ],
   "source": [
    "!`vw --data test.txt -t -i model.vw --loss_function logistic -r raw_predictions.txt `"
   ]
  },
  {
   "cell_type": "code",
   "execution_count": 24,
   "metadata": {
    "collapsed": false
   },
   "outputs": [
    {
     "name": "stdout",
     "output_type": "stream",
     "text": [
      "roc_auc_score : first: 0.846265866745 || second: 0.858757532536\n",
      "f1_score : first: 0.830915960753 || second: 0.847128138412\n",
      "confusion_matrix : first:\n",
      " [[35064  2876]\n",
      " [ 8222 27269]] \n",
      "|| second:\n",
      " [[34883  3057]\n",
      " [ 7166 28325]]\n"
     ]
    }
   ],
   "source": [
    "from sklearn.metrics import roc_auc_score, f1_score, confusion_matrix\n",
    "\n",
    "y_pred = []\n",
    "with open('raw_predictions.txt') as f:\n",
    "     y_pred = f.readlines()\n",
    "\n",
    "y_pred = [1 if float(i) > 0.5 else 0 for i in y_pred]\n",
    "\n",
    "print('roc_auc_score : first:', vw_first_linreg_score, '||', 'second:', roc_auc_score(y_test, y_pred))\n",
    "print('f1_score : first:', vw_first_f1_score, '||', 'second:', f1_score(y_test, y_pred))\n",
    "print('confusion_matrix : first:\\n', vw_first_cm_score, '\\n||', 'second:\\n', confusion_matrix(y_test, y_pred))"
   ]
  },
  {
   "cell_type": "markdown",
   "metadata": {},
   "source": [
    "#### 10. (0.5 балла) Сравните значения метрик из п. 9 со значениями, полученными в п. 5, и сравните соответствующие модели по качеству из работы.\n",
    "\n",
    "**Ответ**: В случае логистической регрессии из sklearn  значение auc-roc и f1_score уменьшилось, так же по матрице ошибок видно что мы стали делать меньше обштбок второго рода и больше первого рода.\n",
    "\n",
    " В случае логистической регрессии из vw  значение auc-roc и f1_score наоборот увеличилось, так же по матрице ошибок видно что мы стали делать меньше обштбок первого рода но больше второго рода."
   ]
  },
  {
   "cell_type": "markdown",
   "metadata": {},
   "source": [
    "#### 11. (1 балл) Отсортируйте веса признаков для каждой из полученных в п. 8 моделей. Какие слова из встречающихся в выборке имеют наибольшее/наименьшее влияние на значение целевой переменной? Проинтерпретирйте полученный результат."
   ]
  },
  {
   "cell_type": "code",
   "execution_count": 25,
   "metadata": {
    "collapsed": false
   },
   "outputs": [
    {
     "name": "stdout",
     "output_type": "stream",
     "text": [
      "min\n",
      "todayhays 2.41610720242e-06\n",
      "whitepertemps 5.85486935195e-06\n",
      "recyling -1.25834673976e-05\n",
      "copes 2.28314253222e-05\n",
      "livingstone 2.79225185686e-05\n",
      "sportsmark -3.33801069691e-05\n",
      "refurbishing -3.94882212767e-05\n",
      "cwsmeriaid 4.28973672333e-05\n",
      "iniative 4.78632365809e-05\n",
      "requited 4.92168915345e-05\n",
      "max\n",
      "london 6.2765960921\n",
      "head 7.07286693571\n",
      "jobcentre -7.33165899363\n",
      "senior 7.39313841688\n",
      "junior -7.77731735176\n",
      "manager 7.78582669035\n",
      "director 7.79908643596\n",
      "optometrist 8.8772196722\n",
      "graduate -10.0480773619\n",
      "assistant -10.8988826337\n"
     ]
    }
   ],
   "source": [
    "indexes = np.argsort([abs(i) for i in logreg.coef_])[0]\n",
    "columns=vectorizer.get_feature_names()\n",
    "\n",
    "\n",
    "print('min')\n",
    "for i in range(0,top_size):\n",
    "    print(columns[indexes[i]], logreg.coef_[0][indexes[i]])\n",
    "     \n",
    "print('max')\n",
    "for i in range(len(indexes) - top_size,len(indexes)):\n",
    "    print(columns[indexes[i]], logreg.coef_[0][indexes[i]])\n",
    "        \n",
    "#слова действительно похожи на те от которых зависит уровень зарплаты  -- гораздо лучше чем предыдущие способы \n",
    "# все слова очевидно напрямую связанные с зрплатой -- senior -- junior --  manager -- director -- graduate(лол -10.0480773619) "
   ]
  },
  {
   "cell_type": "markdown",
   "metadata": {},
   "source": [
    "#### 12. (0.5 доп. балла) Отсортируйте веса признаков для модели логистической регрессии, полученной в п. 8 при помощи Vowpal Wabbit. Какие слова из встречающихся в выборке имеют наибольшее/наименьшее влияние на значение целевой переменной? Проинтерпретирйте полученный результат."
   ]
  },
  {
   "cell_type": "code",
   "execution_count": 26,
   "metadata": {
    "collapsed": false
   },
   "outputs": [
    {
     "name": "stdout",
     "output_type": "stream",
     "text": [
      "min\n",
      "stokenchurch 0.000135\n",
      "ecom 0.000151\n",
      "nes 0.000158\n",
      "lifelimiting 0.000213\n",
      "blumenthal 0.000279\n",
      "engraving 0.000279\n",
      "graphics 0.000283\n",
      "coffees 0.000322\n",
      "collaborations 0.000369\n",
      "kk 0.000389\n",
      "max\n",
      "revitalised 8.309172\n",
      "crowncarveries 8.309795\n",
      "milkmen 8.377786\n",
      "vehiclepurchasercarsales_job 8.381116\n",
      "airmonitoring 8.440272\n",
      "spoton 8.77332\n",
      "hearingcareflamehealth 8.975466\n",
      "navisionjobs 9.648344\n",
      "yearscoring 13.331036\n",
      "theladders 16.332384\n"
     ]
    }
   ],
   "source": [
    "import re\n",
    "\n",
    "def parse_feature_weights():\n",
    "    with open(\"readable_model.vw\") as f:\n",
    "        for line in f.readlines():\n",
    "            mgroup = re.match(\"^features\\^(\\d+):(\\d+):(.*)$\", line)\n",
    "            if mgroup:\n",
    "                feature_name = mgroup.group(1)\n",
    "                feature_weight = mgroup.group(3)\n",
    "                yield (abs(float(feature_weight)), int(feature_name))\n",
    "\n",
    "result_list = list(parse_feature_weights())\n",
    "result_list.sort()\n",
    "columns=vectorizer.get_feature_names()\n",
    "\n",
    "\n",
    "print('min')\n",
    "for i in range(0, top_size):\n",
    "    print(columns[result_list[i][1]], result_list[i][0]) \n",
    "    \n",
    "print('max')\n",
    "for i in range(len(result_list) - top_size, len(result_list)):\n",
    "    print(columns[result_list[i][1]], result_list[i][0]) \n",
    "    \n",
    "\n",
    "#слова действительно похожи на те от которых зависит уровень зарплаты \n",
    "#  theladders -- сайт с вакансиями -- видимо это какой то сайт на котором размещают васокооплачиваемую работу "
   ]
  },
  {
   "cell_type": "markdown",
   "metadata": {},
   "source": [
    "## Счётчики\n",
    "\n",
    "Ранее в рамках данного задания при построении моделей мы объединяли значения всех признаков в единую строку, что предполагает равноправность всех признаков. Однако заметим, что в этом случае мы допускаем потерю информации: слово \"Glasgow\" может по-разному влиять на зарплату, если оно находится в названии объявления и в геолокации. Чтобы устранить этот недостаток, при создании текстового описания объекта будем объединять только значения признаков Title и FullDescription, а остальные будем рассматривать как категориальные. При этом с полученным текстовым описанием объекта будем работать, как раньше (при помощи векторизации или tf-idf), а для кодирования категориальных признаков используем **счётчики**.\n",
    "\n",
    "Идея этого метода состоит в том, чтобы заменить значение категориального признака на вероятность того, что объект с данным значением признака относится к положительному классу. Опишем эту идею более формально. Пусть у нас есть выборка $X = \\{ (x_i, y_i) \\}_{i=1}^l,$ и $j$-ый признак принимает значения из множества $U_j = \\{ u_{jn}\\}_{n=1}^{N_j},$ где $N_j$ — количество различных значений $j$-ого признака. Пусть $x_{ij} = u_{jn},$ тогда заменим значения $j$-ого категориального признака объекта $x_i$ на следующую оценку: \n",
    "$$\\hat{P}(y_i=+1|x_{ij}=u_{jn}) = \\frac{\\sum_{m=1}^l \\left[ x_{mj} = u_{jn} \\right] \\left[ y_m = +1 \\right]}{\\sum_{m=1}^l \\left[ x_{mj} = u_{jn} \\right]}.$$\n",
    "\n",
    "Однако заметим, что при таком способе формирования счётчиков мы учитываем в формуле для объекта $x_i$ его метку $y_i$, тем самым вносим информацию об ответе в признаки. Чтобы устранить этот недостаток, при вычислении счётчика будем исключать из рассмотрения текущий объект, т.е. рассматривать следующую оценку:\n",
    "$$\\hat{P}(y_i=+1|X_{ij}=u_{jn}) = \\frac{\\sum_{m=1, \\\\ m \\ne i}^l \\left[ x_{mj} = u_{jn} \\right] \\left[ y_m = +1 \\right]}{\\sum_{m=1, \\\\ m \\ne i}^l \\left[ x_{mj} = u_{jn} \\right]},$$\n",
    "\n",
    "#### 13. (0.5 балла) Создайте текстовое описание объектов обучающей и контрольной выборок, объединив значения признаков Title и FullDescription каждого объекта выборки через символ пробела, после чего перейдите к признаковому описанию объектов, вычислив вектор tf-idf аналогично п. 7. (будет сделано в одной куче с 14 номером)"
   ]
  },
  {
   "cell_type": "markdown",
   "metadata": {},
   "source": [
    "#### 14. (1 балл) Закодируйте категориальные признаки (все, кроме Title и FullDescription) при помощи [one-hot encoding](http://scikit-learn.org/stable/modules/generated/sklearn.preprocessing.OneHotEncoder.html), после чего обучите логистическую регрессию (при помощи scikit-learn или Vowpal Wabbit) на обучающей выборке. Вычислите значения ROC-AUC, [F-меры](http://scikit-learn.org/stable/modules/generated/sklearn.metrics.f1_score.html), а также постройте [матрицу ошибок](http://scikit-learn.org/stable/modules/generated/sklearn.metrics.confusion_matrix.html) для полученной модели на контрольной выборке. "
   ]
  },
  {
   "cell_type": "code",
   "execution_count": 1,
   "metadata": {
    "collapsed": false
   },
   "outputs": [
    {
     "name": "stdout",
     "output_type": "stream",
     "text": [
      "(244768, 12)\n"
     ]
    },
    {
     "name": "stderr",
     "output_type": "stream",
     "text": [
      "/root/anaconda3/envs/python/lib/python3.5/site-packages/sklearn/cross_validation.py:44: DeprecationWarning: This module was deprecated in version 0.18 in favor of the model_selection module into which all the refactored classes and functions are moved. Also note that the interface of the new CV iterators are different from that of this module. This module will be removed in 0.20.\n",
      "  \"This module will be removed in 0.20.\", DeprecationWarning)\n"
     ]
    }
   ],
   "source": [
    "#cчкачиваю выборку\n",
    "\n",
    "import pandas as pd\n",
    "import numpy as np\n",
    "df = pd.read_csv('Train_rev1.csv', sep=',')\n",
    "print(df.shape)\n",
    "df.head()\n",
    "median = np.median(df['SalaryNormalized'])\n",
    "\n",
    "df['SalaryNormalized'] = (df['SalaryNormalized'] > median).astype(int)\n",
    "df.drop('SalaryRaw', axis=1, inplace=True)\n",
    "df.drop('LocationRaw', axis=1, inplace=True)\n",
    "df.drop('Id', axis=1, inplace=True)\n",
    "df.head()\n",
    "\n",
    "from sklearn.cross_validation import train_test_split\n",
    "\n",
    "Y = df['SalaryNormalized']\n",
    "X = df.drop('SalaryNormalized', axis=1)\n",
    "\n",
    "X_train, X_test, y_train, y_test = train_test_split(X, Y, test_size=0.30, random_state=42)"
   ]
  },
  {
   "cell_type": "code",
   "execution_count": 2,
   "metadata": {
    "collapsed": false
   },
   "outputs": [
    {
     "name": "stdout",
     "output_type": "stream",
     "text": [
      "(171337, 8)\n",
      "(171337,)\n"
     ]
    }
   ],
   "source": [
    "#беру от каждой компании только одно объявление а то все не влезает в память поэтому приходится оптимизировать\n",
    "companies = {}\n",
    "max_count = 1\n",
    "to_delete = []\n",
    "\n",
    "print(X_train.shape)\n",
    "print(y_train.shape)\n",
    "\n",
    "for i in range(0, X_train.shape[0]):\n",
    "    comp = X_train.iloc[i]['Company']\n",
    "    companies.setdefault(comp, 0)\n",
    "    companies[comp] += 1\n",
    "    if companies[comp] > max_count:\n",
    "        to_delete += [i] \n"
   ]
  },
  {
   "cell_type": "code",
   "execution_count": 3,
   "metadata": {
    "collapsed": false
   },
   "outputs": [
    {
     "name": "stdout",
     "output_type": "stream",
     "text": [
      "(17751, 8)\n",
      "(17751,)\n"
     ]
    },
    {
     "name": "stderr",
     "output_type": "stream",
     "text": [
      "/root/anaconda3/envs/python/lib/python3.5/site-packages/ipykernel/__main__.py:3: SettingWithCopyWarning: \n",
      "A value is trying to be set on a copy of a slice from a DataFrame\n",
      "\n",
      "See the caveats in the documentation: http://pandas.pydata.org/pandas-docs/stable/indexing.html#indexing-view-versus-copy\n",
      "  app.launch_new_instance()\n"
     ]
    }
   ],
   "source": [
    "#удаляю ненужные данные из сета\n",
    "len(to_delete)\n",
    "X_train.drop(X_train.index[to_delete], inplace=True)\n",
    "y_train.drop(y_train.index[to_delete], inplace=True)\n",
    "print(X_train.shape)\n",
    "print(y_train.shape)"
   ]
  },
  {
   "cell_type": "code",
   "execution_count": 4,
   "metadata": {
    "collapsed": false
   },
   "outputs": [
    {
     "name": "stderr",
     "output_type": "stream",
     "text": [
      "/root/anaconda3/envs/python/lib/python3.5/site-packages/ipykernel/__main__.py:5: SettingWithCopyWarning: \n",
      "A value is trying to be set on a copy of a slice from a DataFrame\n",
      "\n",
      "See the caveats in the documentation: http://pandas.pydata.org/pandas-docs/stable/indexing.html#indexing-view-versus-copy\n",
      "/root/anaconda3/envs/python/lib/python3.5/site-packages/ipykernel/__main__.py:6: SettingWithCopyWarning: \n",
      "A value is trying to be set on a copy of a slice from a DataFrame\n",
      "\n",
      "See the caveats in the documentation: http://pandas.pydata.org/pandas-docs/stable/indexing.html#indexing-view-versus-copy\n"
     ]
    }
   ],
   "source": [
    "#Делю сет на две кучи\n",
    "text_train = X_train['Title'] + ' ' + X_train['FullDescription']\n",
    "text_test = X_test['Title'] + ' ' + X_test['FullDescription']\n",
    "text_train.fillna('nan', inplace=True)\n",
    "X_train.drop(['Title', 'FullDescription'], inplace=True, axis=1)\n",
    "X_test.drop(['Title', 'FullDescription'], inplace=True, axis=1)\n"
   ]
  },
  {
   "cell_type": "code",
   "execution_count": 5,
   "metadata": {
    "collapsed": false,
    "scrolled": false
   },
   "outputs": [
    {
     "name": "stdout",
     "output_type": "stream",
     "text": [
      "[ True  True  True  True  True  True]\n",
      "Index(['LocationNormalized', 'ContractType', 'ContractTime', 'Company',\n",
      "       'Category', 'SourceName'],\n",
      "      dtype='object')\n"
     ]
    },
    {
     "name": "stderr",
     "output_type": "stream",
     "text": [
      "/root/anaconda3/envs/python/lib/python3.5/site-packages/pandas/core/frame.py:2824: SettingWithCopyWarning: \n",
      "A value is trying to be set on a copy of a slice from a DataFrame\n",
      "\n",
      "See the caveats in the documentation: http://pandas.pydata.org/pandas-docs/stable/indexing.html#indexing-view-versus-copy\n",
      "  downcast=downcast, **kwargs)\n",
      "/root/anaconda3/envs/python/lib/python3.5/site-packages/ipykernel/__main__.py:14: SettingWithCopyWarning: \n",
      "A value is trying to be set on a copy of a slice from a DataFrame.\n",
      "Try using .loc[row_indexer,col_indexer] = value instead\n",
      "\n",
      "See the caveats in the documentation: http://pandas.pydata.org/pandas-docs/stable/indexing.html#indexing-view-versus-copy\n",
      "/root/anaconda3/envs/python/lib/python3.5/site-packages/ipykernel/__main__.py:15: SettingWithCopyWarning: \n",
      "A value is trying to be set on a copy of a slice from a DataFrame.\n",
      "Try using .loc[row_indexer,col_indexer] = value instead\n",
      "\n",
      "See the caveats in the documentation: http://pandas.pydata.org/pandas-docs/stable/indexing.html#indexing-view-versus-copy\n"
     ]
    }
   ],
   "source": [
    "#делаю LabelEncoder признаков\n",
    "cat_features_mask = (X_train.dtypes == \"object\").values \n",
    "print(cat_features_mask)\n",
    "print(X_train.columns)\n",
    "df.fillna('nan', inplace=True)\n",
    "X_train.fillna('nan', inplace=True)\n",
    "X_test.fillna('nan', inplace=True)\n",
    "\n",
    "from sklearn import preprocessing\n",
    "X_train.head()\n",
    "label_enc = preprocessing.LabelEncoder()\n",
    "for feature in X_train.columns[cat_features_mask]: \n",
    "    label_enc.fit(df[feature])\n",
    "    X_train[feature] = label_enc.transform(X_train[feature])\n",
    "    X_test[feature] = label_enc.transform(X_test[feature])\n"
   ]
  },
  {
   "cell_type": "code",
   "execution_count": 6,
   "metadata": {
    "collapsed": false
   },
   "outputs": [],
   "source": [
    "#делаю OneHotEncoder для трейна\n",
    "enc = preprocessing.OneHotEncoder(sparse=False)\n",
    "\n",
    "X_cat_np = enc.fit_transform(\n",
    "    X_train[\n",
    "        X_train.columns[cat_features_mask]\n",
    "    ]\n",
    ")\n",
    "X_cat_pd = pd.DataFrame(data=X_cat_np)"
   ]
  },
  {
   "cell_type": "code",
   "execution_count": 7,
   "metadata": {
    "collapsed": true
   },
   "outputs": [],
   "source": [
    "# делаю TfidfVectorizer для трейна \n",
    "from sklearn.feature_extraction.text import TfidfVectorizer\n",
    "vectorizer = TfidfVectorizer(encoding='utf8', min_df=5)\n",
    "train = vectorizer.fit_transform(text_train)\n"
   ]
  },
  {
   "cell_type": "code",
   "execution_count": 8,
   "metadata": {
    "collapsed": false
   },
   "outputs": [
    {
     "name": "stdout",
     "output_type": "stream",
     "text": [
      "(17751, 13350)\n",
      "(17751, 19270)\n"
     ]
    }
   ],
   "source": [
    "#записываю для vw в файл  трейн\n",
    "from sklearn.datasets import dump_svmlight_file\n",
    "print(pd.DataFrame(train.todense()).shape)\n",
    "print(X_cat_pd.shape)\n",
    "dump_svmlight_file(pd.concat([pd.DataFrame(train.todense()), X_cat_pd], axis=1), y_train, \"train.txt\")"
   ]
  },
  {
   "cell_type": "code",
   "execution_count": 9,
   "metadata": {
    "collapsed": false
   },
   "outputs": [
    {
     "name": "stdout",
     "output_type": "stream",
     "text": [
      "final_regressor = model.vw\n",
      "Num weight bits = 18\n",
      "learning rate = 0.5\n",
      "initial_t = 0\n",
      "power_t = 0.5\n",
      "using no cache\n",
      "Reading datafile = train.txt\n",
      "num sources = 1\n",
      "average  since         example        example  current  current  current\n",
      "loss     last          counter         weight    label  predict features\n",
      "0.693147 0.693147            1            1.0  -1.0000   0.5000      226\n",
      "0.542842 0.392536            2            2.0  -1.0000   0.3247       87\n",
      "0.449483 0.356125            4            4.0  -1.0000   0.2285      168\n",
      "0.676287 0.903091            8            8.0  -1.0000   0.4008      118\n",
      "0.703580 0.730873           16           16.0  -1.0000   0.5433      160\n",
      "0.703952 0.704324           32           32.0  -1.0000   0.6265      188\n",
      "0.691287 0.678622           64           64.0   1.0000   0.5292      211\n",
      "0.662779 0.634270          128          128.0   1.0000   0.4887      131\n",
      "0.616999 0.571219          256          256.0  -1.0000   0.5508      344\n",
      "0.572844 0.528690          512          512.0  -1.0000   0.5506      199\n",
      "0.556611 0.540377         1024         1024.0   1.0000   0.6890      156\n",
      "0.521417 0.486224         2048         2048.0   1.0000   0.6643      164\n",
      "0.478777 0.436137         4096         4096.0  -1.0000   0.3546       61\n",
      "0.433353 0.387929         8192         8192.0   1.0000   0.9029      137\n",
      "0.384724 0.336095        16384        16384.0  -1.0000   0.0668      128\n",
      "\n",
      "finished run\n",
      "number of examples per pass = 17751\n",
      "passes used = 1\n",
      "weighted example sum = 17751.000000\n",
      "weighted label sum = -4355.000000\n",
      "average loss = 0.379346\n",
      "best constant = -0.500893\n",
      "best constant's loss = 0.662742\n",
      "total feature number = 2455477\n"
     ]
    }
   ],
   "source": [
    "#обучаю vw на тестовых \n",
    "! ./run_vw\n",
    "# те же команды что и в предыдущих номерах толкьо в одном файле"
   ]
  },
  {
   "cell_type": "code",
   "execution_count": 10,
   "metadata": {
    "collapsed": false
   },
   "outputs": [],
   "source": [
    "# нахожу в тесте признаки имеющие большие чем в трейне значения и удаляю потому что если это не сделать то не получится заикодить\n",
    "to_delete = []\n",
    "\n",
    "for r in range(0, X_test.shape[0]):\n",
    "    row = X_test.iloc[r]\n",
    "    if (row >= enc.n_values_).any(): \n",
    "        to_delete += [r]\n"
   ]
  },
  {
   "cell_type": "code",
   "execution_count": 11,
   "metadata": {
    "collapsed": false
   },
   "outputs": [
    {
     "data": {
      "text/plain": [
       "[24746, 71926]"
      ]
     },
     "execution_count": 11,
     "metadata": {},
     "output_type": "execute_result"
    }
   ],
   "source": [
    "to_delete"
   ]
  },
  {
   "cell_type": "code",
   "execution_count": 12,
   "metadata": {
    "collapsed": false
   },
   "outputs": [
    {
     "name": "stdout",
     "output_type": "stream",
     "text": [
      "(73431, 6)\n",
      "(73429, 6)\n",
      "(73431,)\n",
      "(73429,)\n"
     ]
    },
    {
     "name": "stderr",
     "output_type": "stream",
     "text": [
      "/root/anaconda3/envs/python/lib/python3.5/site-packages/ipykernel/__main__.py:3: SettingWithCopyWarning: \n",
      "A value is trying to be set on a copy of a slice from a DataFrame\n",
      "\n",
      "See the caveats in the documentation: http://pandas.pydata.org/pandas-docs/stable/indexing.html#indexing-view-versus-copy\n",
      "  app.launch_new_instance()\n"
     ]
    },
    {
     "name": "stdout",
     "output_type": "stream",
     "text": [
      "(73431,)\n",
      "(73429,)\n"
     ]
    }
   ],
   "source": [
    "# удаляю из тестовой выборки ненужные строчки\n",
    "print(X_test.shape)\n",
    "X_test.drop(X_test.index[to_delete], inplace=True)\n",
    "print(X_test.shape)\n",
    "\n",
    "print(text_test.shape)\n",
    "text_test.drop(text_test.index[to_delete], inplace=True)\n",
    "print(text_test.shape)\n",
    "test = vectorizer.transform(text_test)\n",
    "print(y_test.shape)\n",
    "y_test.drop(y_test.index[to_delete], inplace=True)\n",
    "print(y_test.shape)"
   ]
  },
  {
   "cell_type": "code",
   "execution_count": 13,
   "metadata": {
    "collapsed": true
   },
   "outputs": [],
   "source": [
    "#делаю OneHotEncoder для теста\n",
    "X_test_cat_np = enc.transform(\n",
    "    X_test[\n",
    "        X_test.columns[cat_features_mask]\n",
    "    ]\n",
    ")\n",
    "X_test_cat_pd = pd.DataFrame(data=X_test_cat_np)\n"
   ]
  },
  {
   "cell_type": "code",
   "execution_count": 14,
   "metadata": {
    "collapsed": false
   },
   "outputs": [
    {
     "data": {
      "text/plain": [
       "81"
      ]
     },
     "execution_count": 14,
     "metadata": {},
     "output_type": "execute_result"
    }
   ],
   "source": [
    "del train\n",
    "del X_cat_pd\n",
    "del df\n",
    "del enc\n",
    "del label_enc \n",
    "import gc\n",
    "gc.collect()"
   ]
  },
  {
   "cell_type": "code",
   "execution_count": 15,
   "metadata": {
    "collapsed": false
   },
   "outputs": [
    {
     "name": "stdout",
     "output_type": "stream",
     "text": [
      "(73429, 13350)\n",
      "(73429, 19270)\n"
     ]
    }
   ],
   "source": [
    "print(pd.DataFrame(test.todense()).shape)\n",
    "print(X_test_cat_pd.shape)\n",
    "test = pd.concat([pd.DataFrame(test.todense()).head(17000), X_test_cat_pd.head(17000)], axis=1)"
   ]
  },
  {
   "cell_type": "code",
   "execution_count": 17,
   "metadata": {
    "collapsed": false
   },
   "outputs": [
    {
     "name": "stdout",
     "output_type": "stream",
     "text": [
      "(17000, 32620)\n",
      "(73429,)\n"
     ]
    }
   ],
   "source": [
    "#записываю для vw в файл  трейн\n",
    "def print_for_vw(X, y, file_name):\n",
    "    f = open(file_name, 'w')\n",
    "    for i in range(X.shape[0]):\n",
    "        f.write(str(int(y.values[i])))\n",
    "        f.write(\" |features\")\n",
    "        for c in range(len(X.columns)):\n",
    "            f.write(\" \")\n",
    "            f.write(str(c))\n",
    "            f.write(\":\")\n",
    "            f.write(str(X.iloc[i][X.columns[c]]))\n",
    "        f.write(\"\\n\")\n",
    "    f.close()\n",
    "\n",
    "print(test.shape)\n",
    "print(y_test.shape)\n",
    "dump_svmlight_file(test, y_test.head(17000), \"test.txt\")"
   ]
  },
  {
   "cell_type": "code",
   "execution_count": 18,
   "metadata": {
    "collapsed": false
   },
   "outputs": [
    {
     "name": "stdout",
     "output_type": "stream",
     "text": [
      "only testing\n",
      "raw predictions = raw_predictions.txt\n",
      "Num weight bits = 18\n",
      "learning rate = 0.5\n",
      "initial_t = 0\n",
      "power_t = 0.5\n",
      "using no cache\n",
      "Reading datafile = test.txt\n",
      "num sources = 1\n",
      "average  since         example        example  current  current  current\n",
      "loss     last          counter         weight    label  predict features\n",
      "0.846529 0.846529            1            1.0  -1.0000   0.5711      204\n",
      "0.665855 0.485182            2            2.0  -1.0000   0.3844      225\n",
      "0.704473 0.743090            4            4.0  -1.0000   0.5951       43\n",
      "0.441444 0.178415            8            8.0  -1.0000   0.1242      132\n",
      "0.417861 0.394279           16           16.0   1.0000   0.7790      230\n",
      "0.383540 0.349220           32           32.0   1.0000   0.6426      150\n",
      "0.320767 0.257993           64           64.0   1.0000   0.9657      123\n",
      "0.326298 0.331829          128          128.0   1.0000   0.8524      148\n",
      "0.356761 0.387224          256          256.0   1.0000   0.4788      209\n",
      "0.362364 0.367968          512          512.0  -1.0000   0.1551      163\n",
      "0.366510 0.370655         1024         1024.0   1.0000   0.4854      150\n",
      "0.380040 0.393571         2048         2048.0  -1.0000   0.1100      121\n",
      "0.392162 0.404283         4096         4096.0   1.0000   0.7472      149\n",
      "0.393072 0.393982         8192         8192.0   1.0000   0.6162      171\n",
      "0.393381 0.393691        16384        16384.0  -1.0000   0.8618      133\n",
      "\n",
      "finished run\n",
      "number of examples per pass = 17000\n",
      "passes used = 1\n",
      "weighted example sum = 17000.000000\n",
      "weighted label sum = -572.000000\n",
      "average loss = 0.392956\n",
      "best constant = -0.067320\n",
      "best constant's loss = 0.692581\n",
      "total feature number = 2481198\n"
     ]
    }
   ],
   "source": [
    "! ./predict_vw \n",
    "# те же команды что и в предыдущих номерах толкьо в одном файле"
   ]
  },
  {
   "cell_type": "code",
   "execution_count": 21,
   "metadata": {
    "collapsed": false
   },
   "outputs": [
    {
     "name": "stdout",
     "output_type": "stream",
     "text": [
      "0.795344304259 0.764665286404 \n",
      " [[8050  736]\n",
      " [2674 5540]]\n"
     ]
    }
   ],
   "source": [
    "wv_y_pred = []\n",
    "with open('raw_predictions.txt') as f:\n",
    "     wv_y_pred = f.readlines()\n",
    "\n",
    "        \n",
    "from sklearn.metrics import roc_auc_score, f1_score, confusion_matrix\n",
    "wv_y_pred = [1 if float(i) > 0.5 else 0 for i in wv_y_pred]\n",
    "vw_first_linreg_score = roc_auc_score(y_test.head(17000), wv_y_pred)\n",
    "\n",
    "vw_first_f1_score = f1_score(y_test.head(17000), wv_y_pred)\n",
    "vw_first_cm_score = confusion_matrix(y_test.head(17000), wv_y_pred)\n",
    "print(vw_first_linreg_score, vw_first_f1_score, \"\\n\", vw_first_cm_score)\n",
    "\n",
    "#хначения хуже чем с предыдущих но скорее всего это вызвано тем что в данном случае из за one-hot признаки очень сиьно размножаются\n",
    "# поэтому мне было невозможно работать со всей выборкой поскольку оперативная память полностью исчерпывалась"
   ]
  },
  {
   "cell_type": "markdown",
   "metadata": {},
   "source": [
    "#### 15. (2 балла) Для выборки, полученной в п. 13, закодируйте категориальные признаки (все, кроме Title и FullDescription) при помощи счётчиков, после чего обучите логистическую регрессию (при помощи scikit-learn или Vowpal Wabbit) на обучающей выборке. Вычислите значения ROC-AUC, [F-меры](http://scikit-learn.org/stable/modules/generated/sklearn.metrics.f1_score.html), а также постройте [матрицу ошибок](http://scikit-learn.org/stable/modules/generated/sklearn.metrics.confusion_matrix.html) для полученной модели на контрольной выборке. \n",
    "\n",
    "Уделите внимание оптимальности вычисления счётчиков!"
   ]
  },
  {
   "cell_type": "code",
   "execution_count": null,
   "metadata": {
    "collapsed": false
   },
   "outputs": [],
   "source": []
  },
  {
   "cell_type": "markdown",
   "metadata": {},
   "source": [
    "#### 16. (0.5 балла) Сравните значения метрик из п. 15 со значениями, полученными в п. 14, и сделайте вывод о качестве классификации для каждого из методов кодирования категориальных признаков.\n",
    "\n",
    "**Ответ:**"
   ]
  },
  {
   "cell_type": "markdown",
   "metadata": {},
   "source": [
    "## Подбор гиперпараметров\n",
    "\n",
    "#### 17. (1.5 доп. балла) Разбейте обучающую выборку на обучающую и валидационную в отношении 80/20. Для выборки, полученной в п. 13, подберите оптимальное количество фолдов, используемое при кодировании категориальных признаков (всех, кроме Title и FullDescription), путём оптимизации значения accuracy на валидационной выборке. Используйте следующие модели, аналогично также подобрав оптимальные значения указанных гиперпараметров:\n",
    "- логистическую регрессию из модуля sklearn с подбором коэффициента регуляризации;\n",
    "- логистическую регрессию при помощи Vowpal Wabbit с подбором следующих гиперпараметров:\n",
    "    - коэффициент регуляризации (--l2);\n",
    "    - количество эпох (--passes);\n",
    "    - длина градиентного шага (-l);\n",
    "    - длина N-грамм (--ngram)."
   ]
  },
  {
   "cell_type": "code",
   "execution_count": null,
   "metadata": {
    "collapsed": true
   },
   "outputs": [],
   "source": [
    "# Your code here"
   ]
  },
  {
   "cell_type": "markdown",
   "metadata": {},
   "source": [
    "#### 18. (0.5 доп. балла) Обучите указанные выше модели на обучающей выборке для оптимальных значений гиперпараметров, найденных в п. 17, после чего для каждой из моделей вычислите значения ROC-AUC, F-меры, а также постройте матрицу ошибок на контрольной выборке. Как качество классификации при помощи полученных в данном разделе моделей соотносится с моделями, полученными в предыдущих разделах?"
   ]
  },
  {
   "cell_type": "code",
   "execution_count": null,
   "metadata": {
    "collapsed": true
   },
   "outputs": [],
   "source": [
    "# Your code here"
   ]
  },
  {
   "cell_type": "markdown",
   "metadata": {},
   "source": [
    "Здесь вы можете поделиться своими мыслями по поводу этого задания."
   ]
  },
  {
   "cell_type": "raw",
   "metadata": {},
   "source": []
  },
  {
   "cell_type": "markdown",
   "metadata": {},
   "source": [
    "А здесь — вставить вашу вторую любимую смешную картинку."
   ]
  },
  {
   "cell_type": "raw",
   "metadata": {},
   "source": []
  },
  {
   "cell_type": "markdown",
   "metadata": {},
   "source": [
    "А здесь — посоветовать преподавателям хороший фильм или сериал."
   ]
  },
  {
   "cell_type": "markdown",
   "metadata": {},
   "source": []
  }
 ],
 "metadata": {
  "anaconda-cloud": {},
  "kernelspec": {
   "display_name": "Python 3",
   "language": "python",
   "name": "python3"
  },
  "language_info": {
   "codemirror_mode": {
    "name": "ipython",
    "version": 3
   },
   "file_extension": ".py",
   "mimetype": "text/x-python",
   "name": "python",
   "nbconvert_exporter": "python",
   "pygments_lexer": "ipython3",
   "version": "3.6.0"
  }
 },
 "nbformat": 4,
 "nbformat_minor": 0
}
