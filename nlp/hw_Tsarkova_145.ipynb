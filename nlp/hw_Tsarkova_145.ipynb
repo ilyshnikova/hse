{
 "cells": [
  {
   "cell_type": "code",
   "execution_count": 108,
   "metadata": {
    "collapsed": true
   },
   "outputs": [],
   "source": [
    "from nltk import DependencyGraph\n",
    "import codecs\n",
    "processed_sentences = []\n",
    "sentence = []\n",
    "for line in codecs.open('data1.conll', 'r', 'utf-8'):\n",
    "    if len(line) == 1:\n",
    "        processed_sentences.append(sentence)\n",
    "        sentence = []\n",
    "    else:\n",
    "        word = line.split(\"\\t\")\n",
    "        sentence.append(word)"
   ]
  },
  {
   "cell_type": "code",
   "execution_count": 109,
   "metadata": {},
   "outputs": [
    {
     "name": "stdout",
     "output_type": "stream",
     "text": [
      "понятна nsubj нескромность \n",
      "нескромность advmod Добро \n",
      "нескромность aux бы \n",
      "нескромность nsubj я \n",
      "нескромность cop был \n",
      "нескромность advmod ещё \n",
      "нескромность det его \n",
      "нескромность amod другом: \n",
      "нескромность amod коварная \n",
      "нескромность dobj друга \n",
      "друга amod истинного \n",
      "понятна dobj каждому; \n",
      "понятна cc но \n",
      "понятна conj видел \n",
      "видел nsubj я \n",
      "видел dobj его \n",
      "видел nmod раз \n",
      "раз advmod только \n",
      "видел parataxis могу \n",
      "могу nmod жизни \n",
      "жизни case в \n",
      "жизни det моей \n",
      "могу nmod дороге, \n",
      "дороге, case на \n",
      "дороге, amod большой \n",
      "могу advmod следовательно, \n",
      "могу neg не \n",
      "могу xcomp питать \n",
      "питать nmod нему \n",
      "нему case к \n",
      "питать dobj неизъяснимой \n",
      "неизъяснимой amod той \n",
      "питать advmod ненависти, \n",
      "питать advcl таясь \n",
      "таясь advmod которая, \n",
      "таясь nmod личиною \n",
      "личиною case под \n",
      "личиною nmod дружбы, \n",
      "питать conj ожидает \n",
      "ожидает dobj смерти \n",
      "смерти advmod только \n",
      "смерти cc или \n",
      "смерти conj несчастия \n",
      "несчастия nmod предмета, \n",
      "предмета, amod любимого \n",
      "питать advcl разразиться \n",
      "разразиться mark чтоб \n",
      "разразиться nmod градом \n",
      "градом case над \n",
      "градом det его \n",
      "градом amod головою \n",
      "разразиться dobj насмешек \n",
      "насмешек case упрёков, \n",
      "насмешек amod советов, \n",
      "насмешек cc и \n",
      "насмешек conj сожалений. \n",
      "\n",
      "                                                                                                                            понятна                                                                                                                                                                  \n",
      "    ___________________________________________________________________________________________________________________________|____________________________________________________                                                                                                                  \n",
      "   |      |                         |                                                                                                                                             видел                                                                                                              \n",
      "   |      |                         |                                        _______________________________________________________________________________________________________|______________________                                                                                           \n",
      "   |      |                         |                                       |   |    |                                                                                                                    могу                                                                                       \n",
      "   |      |                         |                                       |   |    |           __________________________________________________________________________________________________________|_______________________                                                                   \n",
      "   |      |                         |                                       |   |    |          |         |        |                   |                                                                                         питать                                                              \n",
      "   |      |                         |                                       |   |    |          |         |        |                   |                 __________________________________________________________________________|__________________________                                        \n",
      "   |      |                         |                                       |   |    |          |         |        |                   |                |       |        |                  |                          ожидает                                |                                      \n",
      "   |      |                         |                                       |   |    |          |         |        |                   |                |       |        |                  |                             |                                   |                                       \n",
      "   |      |                         |                                       |   |    |          |         |        |                   |                |       |        |                  |                           смерти                                |                                      \n",
      "   |      |                         |                                       |   |    |          |         |        |                   |                |       |        |                  |                      _______|________                           |                                       \n",
      "   |      |                    нескромность                                 |   |    |          |         |        |                   |                |       |        |                таясь                   |       |    несчастия                 разразиться                                 \n",
      "   |      |     ____________________|________________________________       |   |    |          |         |        |                   |                |       |        |           _______|______               |       |        |       ___________________|__________________                     \n",
      "   |      |    |    |   |   |       |        |     |       |       друга    |   |   раз         |         |      жизни              дороге,             |      нему неизъяснимой    |           личиною           |       |    предмета,  |       градом                      насмешек               \n",
      "   |      |    |    |   |   |       |        |     |       |         |      |   |    |          |         |    ____|____        _______|_______         |       |        |          |        ______|_______       |       |        |      |     ____|_________           ________|_____________       \n",
      "каждому;  но Добро  бы  я  был     ещё      его другом: коварная истинного  я  его только следовательно,  не  в        моей    на           большой ненависти,  к       той      которая,  под          дружбы, только   или    любимого чтоб над  его     головою   упрёков, советов,  и  сожалений.\n",
      "\n",
      "None\n"
     ]
    }
   ],
   "source": [
    "deps = []\n",
    "for sentence in processed_sentences:\n",
    "    s = u''\n",
    "    for line in sentence:\n",
    "        s += u\"\\t\".join(line) + u'\\n'\n",
    "    deps.append(s)\n",
    "for sent_dep in deps:\n",
    "    graph = DependencyGraph(tree_str=sent_dep)\n",
    "    for triple in graph.triples():\n",
    "        for e in triple:\n",
    "            print(e[0] if isinstance(e, tuple) else e, end=' ')\n",
    "        print()\n",
    "    print()\n",
    "    tree = graph.tree()\n",
    "    print(tree.pretty_print())"
   ]
  },
  {
   "cell_type": "markdown",
   "metadata": {},
   "source": [
    "Для кажого слова учитываем если позицию в тексте и ищем только SVO тройки. \n",
    "При наличие однородных членов предложения то тройка выведится с каждым поотдельности "
   ]
  },
  {
   "cell_type": "code",
   "execution_count": 110,
   "metadata": {},
   "outputs": [
    {
     "name": "stdout",
     "output_type": "stream",
     "text": [
      "я   видел   его\n"
     ]
    }
   ],
   "source": [
    "for sent_dep in deps:\n",
    "    verbs = {}\n",
    "    for t in sent_dep.split('\\n'):\n",
    "        if len(t) > 1:\n",
    "            splt = t.split('\\t')\n",
    "            if splt[3] == 'VERB':\n",
    "                verbs[splt[0]] = {'verb': splt[1]}\n",
    "                                \n",
    "    for t in sent_dep.split('\\n'):\n",
    "        if len(t) > 1:\n",
    "            splt = t.split('\\t')\n",
    "            if splt[7] in ['dobj', 'nsubj']:\n",
    "                if splt[6] in verbs:\n",
    "                    if splt[7] in verbs[splt[6]]:\n",
    "                        verbs[splt[6]][splt[7]].append(splt[1])\n",
    "                        verbs[splt[6]][splt[7] + '_position'].append(splt[0])\n",
    "                    else:\n",
    "                        verbs[splt[6]][splt[7]] = [(splt[1])]\n",
    "                        verbs[splt[6]][splt[7] + '_position'] = [splt[0]]\n",
    "\n",
    "                    \n",
    "    for t in verbs.keys():\n",
    "        if 'nsubj' not in verbs[t]:\n",
    "            continue\n",
    "        for i in range(len(verbs[t]['nsubj'])):\n",
    "            if 'dobj' not in verbs[t]:\n",
    "                continue\n",
    "            for j in range(len(verbs[t]['dobj'])):\n",
    "                if (verbs[t]['nsubj_position'][i] < t < verbs[t]['dobj_position'][j]):\n",
    "                    print(verbs[t]['nsubj'][i], \" \", verbs[t]['verb'], \" \", verbs[t]['dobj'][j])"
   ]
  },
  {
   "cell_type": "code",
   "execution_count": null,
   "metadata": {
    "collapsed": true
   },
   "outputs": [],
   "source": []
  },
  {
   "cell_type": "code",
   "execution_count": null,
   "metadata": {
    "collapsed": true
   },
   "outputs": [],
   "source": []
  },
  {
   "cell_type": "code",
   "execution_count": null,
   "metadata": {
    "collapsed": true
   },
   "outputs": [],
   "source": []
  },
  {
   "cell_type": "code",
   "execution_count": null,
   "metadata": {
    "collapsed": true
   },
   "outputs": [],
   "source": []
  },
  {
   "cell_type": "code",
   "execution_count": null,
   "metadata": {
    "collapsed": true
   },
   "outputs": [],
   "source": []
  },
  {
   "cell_type": "code",
   "execution_count": null,
   "metadata": {
    "collapsed": true
   },
   "outputs": [],
   "source": []
  }
 ],
 "metadata": {
  "kernelspec": {
   "display_name": "Python 3",
   "language": "python",
   "name": "python3"
  },
  "language_info": {
   "codemirror_mode": {
    "name": "ipython",
    "version": 3
   },
   "file_extension": ".py",
   "mimetype": "text/x-python",
   "name": "python",
   "nbconvert_exporter": "python",
   "pygments_lexer": "ipython3",
   "version": "3.6.1"
  }
 },
 "nbformat": 4,
 "nbformat_minor": 2
}
